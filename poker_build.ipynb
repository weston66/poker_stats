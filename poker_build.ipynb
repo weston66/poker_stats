{
 "nbformat": 4,
 "nbformat_minor": 2,
 "metadata": {
  "language_info": {
   "name": "python",
   "codemirror_mode": {
    "name": "ipython",
    "version": 3
   },
   "version": "3.9.7-final"
  },
  "orig_nbformat": 2,
  "file_extension": ".py",
  "mimetype": "text/x-python",
  "name": "python",
  "npconvert_exporter": "python",
  "pygments_lexer": "ipython3",
  "version": 3,
  "kernelspec": {
   "name": "python39764bite109d15b66884930af75fb58ac4ac07d",
   "display_name": "Python 3.9.7 64-bit"
  }
 },
 "cells": [
  {
   "cell_type": "code",
   "execution_count": 3,
   "metadata": {},
   "outputs": [
    {
     "output_type": "stream",
     "name": "stdout",
     "text": "2483266\n"
    }
   ],
   "source": [
    "import pandas as pd\n",
    "import numpy as np\n",
    "import itertools\n",
    "import random\n",
    "\n",
    "#ANALYZING THE COMBINATIONS OF BOARDS\n",
    "#option to set testing seed\n",
    "#random.seed(5)\n",
    "rand = random.randint(0, 2598960)\n",
    "print(rand)"
   ]
  },
  {
   "cell_type": "code",
   "execution_count": 4,
   "metadata": {},
   "outputs": [],
   "source": [
    "#BUILD THE DECK\n",
    "#the deckl is populated by parsing the numbers list and the suits list into the decks array\n",
    "numbers = list(range(2,15))\n",
    "suits = ['H', 'S', 'C', 'D']\n",
    "deck = []\n",
    "\n",
    "for i in numbers:\n",
    "    for s in suits:\n",
    "        card = s+str(i)\n",
    "        deck.append(card)\n",
    "\n",
    "#CREATE ARRAY OF ALL POSSIBLE HAND OUTCOMES OF 5 CARDS\n",
    "#52! / (5! * (52-5)!) = 2,598,960 possible unique outcomes\n",
    "all_possible_boards = []\n",
    "for i in itertools.combinations(deck, 5):\n",
    "    all_possible_boards.append(i)"
   ]
  },
  {
   "cell_type": "code",
   "execution_count": 5,
   "metadata": {},
   "outputs": [],
   "source": [
    "#SEPERATE SUITS AND VALUES\n",
    "def get_suit_value(hand):\n",
    "    value = []\n",
    "    suit = []\n",
    "    i = 0\n",
    "    while i<5:\n",
    "        suit.append(hand[i][0])\n",
    "        value.append(int(hand[i][1:]))\n",
    "        i += 1\n",
    "    return suit, value\n",
    "\n",
    "#COUNT SUITS AND VALUES FREQUENCY\n",
    "#ONLY RETURNS THE FREQUENCY FOR CALUCULATIONS\n",
    "def count_suit_value(suit, value):\n",
    "    value_count = []\n",
    "    for n in set(value):\n",
    "        value_count.append(int(value.count(n)))\n",
    "\n",
    "    value_count_max = max(value_count)\n",
    "\n",
    "    suit_count = []\n",
    "    for m in set(suit):\n",
    "        suit_count.append(suit.count(m))\n",
    "\n",
    "    suit_count_max = max(suit_count)\n",
    "\n",
    "    return value_count_max, suit_count_max\n",
    ""
   ]
  },
  {
   "cell_type": "code",
   "execution_count": 6,
   "metadata": {},
   "outputs": [],
   "source": [
    "#IDENTIFYERS OF ALL POSSIBLE HAND COMBINDATIONS IN ORDER BEST TO WORST\n",
    "#royal flush, straight flush, quads, full house, flush, straight, three of a kind, two pair, pair, high card\n",
    "def best_combination(value, suit, value_count_max, suit_count_max):\n",
    "    combo = \"\"\n",
    "    if suit_count_max == 5: #flush containing combinations: flush, straight flush, royal flush        \n",
    "        #special case where ace is low\n",
    "        if sorted(value) == [2, 3, 4, 5, 14]:\n",
    "            combo = \"Straight Flush\"\n",
    "        else:\n",
    "            i = 1\n",
    "            while i < 5:\n",
    "                if (sorted(value)[i] == sorted(value)[i-1]+1) == True:\n",
    "                    if i == 4:\n",
    "                        if sorted(value)[i] == 14:\n",
    "                            combo = \"Royal Flush\"\n",
    "                        else:\n",
    "                            combo = \"Straight Flush\"\n",
    "                        i += 1\n",
    "                    else:\n",
    "                        i += 1\n",
    "                else:\n",
    "                    combo = \"Flush\" \n",
    "                    break\n",
    "\n",
    "    #check all non-flush combinations for best combo of hands\n",
    "    #if value frequency is 1: highcard or straight, 2: pair or two pair, 3: three of a kind or full house, 4:quads\n",
    "    else:\n",
    "        #count the pair, we will use this in conjuction with the value_max_count to determine combo        \n",
    "        pair_count = []\n",
    "        if len(set(value)) != 5:\n",
    "            for p in set(value):\n",
    "                if value.count(p) == 2:\n",
    "                    pair_count.append(int(p))\n",
    "\n",
    "        #check quads\n",
    "        if value_count_max == 4:\n",
    "            combo = \"Quads\"\n",
    "\n",
    "        #check full house if not then three of a kind\n",
    "        elif value_count_max == 3:\n",
    "            if len(pair_count) == 1:\n",
    "                combo = \"Full House\"\n",
    "            else:\n",
    "                combo = \"Three of a Kind\"\n",
    "        \n",
    "        #check two pair if not then one pair\n",
    "        elif value_count_max == 2:\n",
    "            if len(pair_count) == 2:\n",
    "                combo = \"Two Pair\"\n",
    "            else:\n",
    "                combo = \"Pair\"\n",
    "\n",
    "        #check straight if not then high card\n",
    "        else:\n",
    "            i = 1\n",
    "            while i < 5:\n",
    "                if (sorted(value)[i] == sorted(value)[i-1]+1) == True or sorted(value) == [2, 3, 4, 5, 14]:\n",
    "                    if i == 4:\n",
    "                        combo = \"Straight\"\n",
    "                        i += 1\n",
    "                    else:\n",
    "                        i += 1\n",
    "                else:\n",
    "                    combo = \"High Card\"\n",
    "                    break\n",
    "    return combo\n",
    ""
   ]
  },
  {
   "cell_type": "code",
   "execution_count": 7,
   "metadata": {},
   "outputs": [],
   "source": [
    "#SCORING MOD\n",
    "def scoring(combo, suit, value):\n",
    "    if combo == \"High Card\": #score 1<x<15\n",
    "        score = sorted(value, reverse=True)[0] + sorted(value, reverse=True)[1]/100 + sorted(value, reverse=True)[2]/1000 \n",
    "        + sorted(value, reverse=True)[3]/10000 + sorted(value, reverse=True)[4]/100000\n",
    "    \n",
    "    elif combo == \"Pair\": #score 15<x<28\n",
    "        pair = []\n",
    "        no_pair = []\n",
    "        for i in value:\n",
    "            if value.count(i) == 2:\n",
    "                if i not in pair:\n",
    "                    pair.append(i)\n",
    "                else:\n",
    "                    pass\n",
    "            else:\n",
    "                no_pair.append(i)\n",
    "\n",
    "        score = 13 + pair[0] + sorted(no_pair, reverse=True)[0]/100 + sorted(no_pair, reverse=True)[1]/1000 + sorted(no_pair, reverse=True)[2]/10000\n",
    "    \n",
    "    elif combo == \"Two Pair\": #score 28<x<41\n",
    "        pair = []\n",
    "        no_pair = []\n",
    "        for i in value:\n",
    "            if value.count(i) == 2:\n",
    "                if i not in pair:\n",
    "                    pair.append(i)\n",
    "                else:\n",
    "                    pass\n",
    "            else:\n",
    "                no_pair.append(i)\n",
    "\n",
    "        score = 26 + sorted(pair, reverse=True)[0] + sorted(pair, reverse=True)[1]/100 + sorted(no_pair, reverse=True)[0]/1000\n",
    "\n",
    "    elif combo == \"Three of a Kind\": # score 41<x<54\n",
    "        threes = []\n",
    "        no_threes = []\n",
    "        for i in value:\n",
    "            if value.count(i) == 3:\n",
    "                if i not in threes:\n",
    "                    threes.append(i)\n",
    "                else:\n",
    "                    pass\n",
    "            else:\n",
    "                no_threes.append(i)\n",
    "\n",
    "        score = 39 + threes[0] + sorted(no_threes, reverse=True)[0]/100 + sorted(no_threes, reverse=True)[1]/1000\n",
    "\n",
    "    elif combo == \"Straight\": #just high card in the range from 5 to A(14): score 54<=x<63\n",
    "        if sorted(value) == [2, 3, 4, 5, 14]:\n",
    "            score = 54\n",
    "        else:\n",
    "            score = 49 + max(value)\n",
    "    \n",
    "    elif combo == \"Flush\": #same as high card: score 63<x<76\n",
    "        score = 61 + sorted(value, reverse=True)[0] + sorted(value, reverse=True)[1]/100 + sorted(value, reverse=True)[2]/1000 \n",
    "        + sorted(value, reverse=True)[3]/10000 + sorted(value, reverse=True)[4]/100000\n",
    "\n",
    "    elif combo == \"Full House\": # score 76<x<89\n",
    "        threes = []\n",
    "        pair = []\n",
    "        for i in value:\n",
    "            if value.count(i) == 3:\n",
    "                if i not in threes:\n",
    "                    threes.append(i)\n",
    "                else:\n",
    "                    pass\n",
    "            else:\n",
    "                pair.append(i)\n",
    "\n",
    "        score = 74 + threes[0] + pair[0]/100\n",
    "\n",
    "    elif combo == \"Quads\": # score 89<x<102\n",
    "        quads = []\n",
    "        high = []\n",
    "        for i in value:\n",
    "            if value.count(i) == 4:\n",
    "                if i not in quads:\n",
    "                    quads.append(i)\n",
    "                else:\n",
    "                    pass\n",
    "            else:\n",
    "                high.append(i)\n",
    "        score = 87 + quads[0] + high[0]/100\n",
    "\n",
    "    elif combo == \"Straight Flush\": #straight in the new range: score 102<=x<111\n",
    "        if sorted(value) == [2, 3, 4, 5, 14]:\n",
    "            score = 102\n",
    "        else:\n",
    "            score = 97 + max(value)\n",
    "\n",
    "    else: #Royal Flush\n",
    "        score = 112 #max score 112\n",
    "\n",
    "    return score\n",
    ""
   ]
  },
  {
   "cell_type": "code",
   "execution_count": 8,
   "metadata": {},
   "outputs": [],
   "source": [
    "# TESTER FUNCTION USED TO RUN ALL POSSIBLE HAND COMBOS\n",
    "def tester(hand):\n",
    "    suit, value = get_suit_value(hand)\n",
    "    value_count_max, suit_count_max = count_suit_value(suit, value)\n",
    "    combo = best_combination(value, suit, value_count_max, suit_count_max)\n",
    "    score = scoring(combo, suit, value)\n",
    "\n",
    "    return combo, score\n",
    "\n",
    "# CREATE A ARRAY OF [[COMBO], [SCORE]] FOR ANALYSIS\n",
    "score_and_combo = []\n",
    "for boards in all_possible_boards:\n",
    "    score_and_combo.append(tester(boards))\n",
    ""
   ]
  },
  {
   "cell_type": "code",
   "execution_count": 9,
   "metadata": {},
   "outputs": [
    {
     "output_type": "execute_result",
     "data": {
      "text/plain": "                   Hand  Combo  Score\n0  (H2, S2, C2, D2, H3)  Quads  89.03\n1  (H2, S2, C2, D2, S3)  Quads  89.03\n2  (H2, S2, C2, D2, C3)  Quads  89.03\n3  (H2, S2, C2, D2, D3)  Quads  89.03\n4  (H2, S2, C2, D2, H4)  Quads  89.04",
      "text/html": "<div>\n<style scoped>\n    .dataframe tbody tr th:only-of-type {\n        vertical-align: middle;\n    }\n\n    .dataframe tbody tr th {\n        vertical-align: top;\n    }\n\n    .dataframe thead th {\n        text-align: right;\n    }\n</style>\n<table border=\"1\" class=\"dataframe\">\n  <thead>\n    <tr style=\"text-align: right;\">\n      <th></th>\n      <th>Hand</th>\n      <th>Combo</th>\n      <th>Score</th>\n    </tr>\n  </thead>\n  <tbody>\n    <tr>\n      <th>0</th>\n      <td>(H2, S2, C2, D2, H3)</td>\n      <td>Quads</td>\n      <td>89.03</td>\n    </tr>\n    <tr>\n      <th>1</th>\n      <td>(H2, S2, C2, D2, S3)</td>\n      <td>Quads</td>\n      <td>89.03</td>\n    </tr>\n    <tr>\n      <th>2</th>\n      <td>(H2, S2, C2, D2, C3)</td>\n      <td>Quads</td>\n      <td>89.03</td>\n    </tr>\n    <tr>\n      <th>3</th>\n      <td>(H2, S2, C2, D2, D3)</td>\n      <td>Quads</td>\n      <td>89.03</td>\n    </tr>\n    <tr>\n      <th>4</th>\n      <td>(H2, S2, C2, D2, H4)</td>\n      <td>Quads</td>\n      <td>89.04</td>\n    </tr>\n  </tbody>\n</table>\n</div>"
     },
     "metadata": {},
     "execution_count": 9
    }
   ],
   "source": [
    "score_1 = pd.DataFrame(score_and_combo)\n",
    "\n",
    "stats_1 = pd.DataFrame({'Hand':all_possible_boards, 'Combo':score_1[0], 'Score':score_1[1]})\n",
    "stats_1.head()"
   ]
  },
  {
   "cell_type": "code",
   "execution_count": 10,
   "metadata": {},
   "outputs": [
    {
     "output_type": "execute_result",
     "data": {
      "text/plain": "                   Combo\nCombo                   \nFlush               5108\nFull House          3744\nHigh Card        1302540\nPair             1098240\nQuads                624\nRoyal Flush            4\nStraight           10200\nStraight Flush        36\nThree of a Kind    54912\nTwo Pair          123552",
      "text/html": "<div>\n<style scoped>\n    .dataframe tbody tr th:only-of-type {\n        vertical-align: middle;\n    }\n\n    .dataframe tbody tr th {\n        vertical-align: top;\n    }\n\n    .dataframe thead th {\n        text-align: right;\n    }\n</style>\n<table border=\"1\" class=\"dataframe\">\n  <thead>\n    <tr style=\"text-align: right;\">\n      <th></th>\n      <th>Combo</th>\n    </tr>\n    <tr>\n      <th>Combo</th>\n      <th></th>\n    </tr>\n  </thead>\n  <tbody>\n    <tr>\n      <th>Flush</th>\n      <td>5108</td>\n    </tr>\n    <tr>\n      <th>Full House</th>\n      <td>3744</td>\n    </tr>\n    <tr>\n      <th>High Card</th>\n      <td>1302540</td>\n    </tr>\n    <tr>\n      <th>Pair</th>\n      <td>1098240</td>\n    </tr>\n    <tr>\n      <th>Quads</th>\n      <td>624</td>\n    </tr>\n    <tr>\n      <th>Royal Flush</th>\n      <td>4</td>\n    </tr>\n    <tr>\n      <th>Straight</th>\n      <td>10200</td>\n    </tr>\n    <tr>\n      <th>Straight Flush</th>\n      <td>36</td>\n    </tr>\n    <tr>\n      <th>Three of a Kind</th>\n      <td>54912</td>\n    </tr>\n    <tr>\n      <th>Two Pair</th>\n      <td>123552</td>\n    </tr>\n  </tbody>\n</table>\n</div>"
     },
     "metadata": {},
     "execution_count": 10
    }
   ],
   "source": [
    "stats_2 = pd.DataFrame(stats_1['Combo'].groupby(stats_1['Combo']).count())\n",
    "stats_2"
   ]
  },
  {
   "cell_type": "code",
   "execution_count": 11,
   "metadata": {},
   "outputs": [
    {
     "output_type": "execute_result",
     "data": {
      "text/plain": "True"
     },
     "metadata": {},
     "execution_count": 11
    }
   ],
   "source": [
    "stats_2['Combo'].sum() == len(all_possible_boards)"
   ]
  },
  {
   "cell_type": "code",
   "execution_count": 18,
   "metadata": {},
   "outputs": [
    {
     "output_type": "execute_result",
     "data": {
      "text/plain": "[0.1965401545233478,\n 0.14405762304921968,\n 50.11773940345369,\n 42.25690276110444,\n 0.024009603841536616,\n 0.000153907716932927,\n 0.39246467817896385,\n 0.0013851694523963432,\n 2.112845138055222,\n 4.75390156062425]"
     },
     "metadata": {},
     "execution_count": 18
    }
   ],
   "source": [
    "combo_1 = []\n",
    "for i in stats_2['Combo']:\n",
    "    combo_1.append(i/len(all_possible_boards)*100)\n",
    "combo_1"
   ]
  },
  {
   "cell_type": "code",
   "execution_count": 19,
   "metadata": {},
   "outputs": [
    {
     "output_type": "execute_result",
     "data": {
      "text/plain": "                   Combo          %\nCombo                              \nFlush               5108   0.196540\nFull House          3744   0.144058\nHigh Card        1302540  50.117739\nPair             1098240  42.256903\nQuads                624   0.024010\nRoyal Flush            4   0.000154\nStraight           10200   0.392465\nStraight Flush        36   0.001385\nThree of a Kind    54912   2.112845\nTwo Pair          123552   4.753902",
      "text/html": "<div>\n<style scoped>\n    .dataframe tbody tr th:only-of-type {\n        vertical-align: middle;\n    }\n\n    .dataframe tbody tr th {\n        vertical-align: top;\n    }\n\n    .dataframe thead th {\n        text-align: right;\n    }\n</style>\n<table border=\"1\" class=\"dataframe\">\n  <thead>\n    <tr style=\"text-align: right;\">\n      <th></th>\n      <th>Combo</th>\n      <th>%</th>\n    </tr>\n    <tr>\n      <th>Combo</th>\n      <th></th>\n      <th></th>\n    </tr>\n  </thead>\n  <tbody>\n    <tr>\n      <th>Flush</th>\n      <td>5108</td>\n      <td>0.196540</td>\n    </tr>\n    <tr>\n      <th>Full House</th>\n      <td>3744</td>\n      <td>0.144058</td>\n    </tr>\n    <tr>\n      <th>High Card</th>\n      <td>1302540</td>\n      <td>50.117739</td>\n    </tr>\n    <tr>\n      <th>Pair</th>\n      <td>1098240</td>\n      <td>42.256903</td>\n    </tr>\n    <tr>\n      <th>Quads</th>\n      <td>624</td>\n      <td>0.024010</td>\n    </tr>\n    <tr>\n      <th>Royal Flush</th>\n      <td>4</td>\n      <td>0.000154</td>\n    </tr>\n    <tr>\n      <th>Straight</th>\n      <td>10200</td>\n      <td>0.392465</td>\n    </tr>\n    <tr>\n      <th>Straight Flush</th>\n      <td>36</td>\n      <td>0.001385</td>\n    </tr>\n    <tr>\n      <th>Three of a Kind</th>\n      <td>54912</td>\n      <td>2.112845</td>\n    </tr>\n    <tr>\n      <th>Two Pair</th>\n      <td>123552</td>\n      <td>4.753902</td>\n    </tr>\n  </tbody>\n</table>\n</div>"
     },
     "metadata": {},
     "execution_count": 19
    }
   ],
   "source": [
    "stats_2['%'] = combo_1\n",
    "stats_2"
   ]
  }
 ]
}